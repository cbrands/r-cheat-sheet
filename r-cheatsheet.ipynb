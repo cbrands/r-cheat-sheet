{
 "cells": [
  {
   "cell_type": "markdown",
   "metadata": {},
   "source": [
    "# R Cheat Sheet"
   ]
  },
  {
   "cell_type": "code",
   "execution_count": 2,
   "metadata": {},
   "outputs": [
    {
     "data": {
      "text/html": [
       "1"
      ],
      "text/latex": [
       "1"
      ],
      "text/markdown": [
       "1"
      ],
      "text/plain": [
       "[1] 1"
      ]
     },
     "metadata": {},
     "output_type": "display_data"
    }
   ],
   "source": [
    "# This is a comment\n",
    "a <- 1 #assigning a value to a variabele\n",
    "a"
   ]
  },
  {
   "cell_type": "markdown",
   "metadata": {},
   "source": [
    "## Datatypes\n",
    "### Characters\n",
    "String values are known as characters in R."
   ]
  },
  {
   "cell_type": "code",
   "execution_count": 6,
   "metadata": {},
   "outputs": [
    {
     "name": "stdout",
     "output_type": "stream",
     "text": [
      "[1] \"Hello World!\"\n"
     ]
    },
    {
     "data": {
      "text/html": [
       "'character'"
      ],
      "text/latex": [
       "'character'"
      ],
      "text/markdown": [
       "'character'"
      ],
      "text/plain": [
       "[1] \"character\""
      ]
     },
     "metadata": {},
     "output_type": "display_data"
    }
   ],
   "source": [
    "#For assignment you can use single quates and double quotes.\n",
    "char1 <- 'Hello'\n",
    "char2 <- \"World!\"\n",
    "#Concatenating strings\n",
    "char3 <- paste(char1, char2, sep=\" \")\n",
    "print(char3)\n",
    "class(char3)"
   ]
  },
  {
   "cell_type": "markdown",
   "metadata": {},
   "source": [
    "### Numeric\n",
    "Integers and decimal numbers belong to the numeric class"
   ]
  },
  {
   "cell_type": "code",
   "execution_count": 11,
   "metadata": {},
   "outputs": [
    {
     "data": {
      "text/html": [
       "1.4"
      ],
      "text/latex": [
       "1.4"
      ],
      "text/markdown": [
       "1.4"
      ],
      "text/plain": [
       "[1] 1.4"
      ]
     },
     "metadata": {},
     "output_type": "display_data"
    }
   ],
   "source": [
    "num1 <- 5\n",
    "num2 <- 7\n",
    "# +, -, *, / work as expected\n",
    "num2 / num1"
   ]
  },
  {
   "cell_type": "code",
   "execution_count": 12,
   "metadata": {},
   "outputs": [
    {
     "data": {
      "text/html": [
       "2"
      ],
      "text/latex": [
       "2"
      ],
      "text/markdown": [
       "2"
      ],
      "text/plain": [
       "[1] 2"
      ]
     },
     "metadata": {},
     "output_type": "display_data"
    }
   ],
   "source": [
    "#modulus\n",
    "num2 %% num1"
   ]
  },
  {
   "cell_type": "code",
   "execution_count": 13,
   "metadata": {},
   "outputs": [
    {
     "data": {
      "text/html": [
       "1"
      ],
      "text/latex": [
       "1"
      ],
      "text/markdown": [
       "1"
      ],
      "text/plain": [
       "[1] 1"
      ]
     },
     "metadata": {},
     "output_type": "display_data"
    }
   ],
   "source": [
    "#integer divide\n",
    "num2 %/% num1"
   ]
  },
  {
   "cell_type": "markdown",
   "metadata": {},
   "source": [
    "### Logical\n",
    "Logical values are booleans."
   ]
  },
  {
   "cell_type": "code",
   "execution_count": 14,
   "metadata": {},
   "outputs": [
    {
     "data": {
      "text/html": [
       "'logical'"
      ],
      "text/latex": [
       "'logical'"
      ],
      "text/markdown": [
       "'logical'"
      ],
      "text/plain": [
       "[1] \"logical\""
      ]
     },
     "metadata": {},
     "output_type": "display_data"
    }
   ],
   "source": [
    "logical1 <- TRUE # TRUE and FALSE must be all capital letters\n",
    "logical2 <- F    # T and F for TRUE and FALSE are also valid but again must be capital\n",
    "class(logical2)"
   ]
  },
  {
   "cell_type": "markdown",
   "metadata": {},
   "source": [
    "### Vectors\n",
    "A vector is a 1 dimensional array that can hold character, numeric, or logical data elements of one type. This means that one vector can not have character and numeric data elements. If you define a vector with mixed data elements R will convert the elements in the array to force everything to be of the same data type. "
   ]
  },
  {
   "cell_type": "code",
   "execution_count": 15,
   "metadata": {},
   "outputs": [
    {
     "data": {
      "text/html": [
       "'logical'"
      ],
      "text/latex": [
       "'logical'"
      ],
      "text/markdown": [
       "'logical'"
      ],
      "text/plain": [
       "[1] \"logical\""
      ]
     },
     "metadata": {},
     "output_type": "display_data"
    }
   ],
   "source": [
    "# Create a vector of numeric elements\n",
    "nvec <- c(1,2,3,4,5)\n",
    "# Create a vector of character elements\n",
    "cvec <- c('a', 'b', 'c')\n",
    "# Create a vector of logical elements\n",
    "lvec <- c(TRUE, FALSE)\n",
    "class(lvec)"
   ]
  },
  {
   "cell_type": "code",
   "execution_count": 16,
   "metadata": {},
   "outputs": [
    {
     "data": {
      "text/html": [
       "<dl class=dl-horizontal>\n",
       "\t<dt>Mon</dt>\n",
       "\t\t<dd>9</dd>\n",
       "\t<dt>Tue</dt>\n",
       "\t\t<dd>7</dd>\n",
       "\t<dt>Wed</dt>\n",
       "\t\t<dd>6</dd>\n",
       "\t<dt>Thu</dt>\n",
       "\t\t<dd>5</dd>\n",
       "\t<dt>Fri</dt>\n",
       "\t\t<dd>4</dd>\n",
       "\t<dt>Sat</dt>\n",
       "\t\t<dd>7</dd>\n",
       "\t<dt>Sun</dt>\n",
       "\t\t<dd>11</dd>\n",
       "</dl>\n"
      ],
      "text/latex": [
       "\\begin{description*}\n",
       "\\item[Mon] 9\n",
       "\\item[Tue] 7\n",
       "\\item[Wed] 6\n",
       "\\item[Thu] 5\n",
       "\\item[Fri] 4\n",
       "\\item[Sat] 7\n",
       "\\item[Sun] 11\n",
       "\\end{description*}\n"
      ],
      "text/markdown": [
       "Mon\n",
       ":   9Tue\n",
       ":   7Wed\n",
       ":   6Thu\n",
       ":   5Fri\n",
       ":   4Sat\n",
       ":   7Sun\n",
       ":   11\n",
       "\n"
      ],
      "text/plain": [
       "Mon Tue Wed Thu Fri Sat Sun \n",
       "  9   7   6   5   4   7  11 "
      ]
     },
     "metadata": {},
     "output_type": "display_data"
    }
   ],
   "source": [
    "#named vectors\n",
    "celcius <- c(9,7,6,5,4,7,11)\n",
    "days <- c('Mon','Tue','Wed','Thu','Fri','Sat','Sun')\n",
    "names(celcius) <- days\n",
    "celcius"
   ]
  },
  {
   "cell_type": "code",
   "execution_count": 22,
   "metadata": {},
   "outputs": [
    {
     "name": "stdout",
     "output_type": "stream",
     "text": [
      "[1]  6  8 10\n",
      "[1]  5 12 21\n",
      "[1] 4 4 4\n",
      "[1] 5.000000 3.000000 2.333333\n"
     ]
    }
   ],
   "source": [
    "# working with vectors\n",
    "v1 <- c(1,2,3)\n",
    "v2 <- c(5,6,7)\n",
    "print(v1+v2)\n",
    "print(v1*v2)\n",
    "print(v2-v1)\n",
    "print(v2/v1)"
   ]
  },
  {
   "cell_type": "code",
   "execution_count": 23,
   "metadata": {},
   "outputs": [
    {
     "data": {
      "text/html": [
       "6"
      ],
      "text/latex": [
       "6"
      ],
      "text/markdown": [
       "6"
      ],
      "text/plain": [
       "[1] 6"
      ]
     },
     "metadata": {},
     "output_type": "display_data"
    }
   ],
   "source": [
    "sum(v1)"
   ]
  },
  {
   "cell_type": "code",
   "execution_count": 29,
   "metadata": {},
   "outputs": [
    {
     "data": {
      "text/html": [
       "6"
      ],
      "text/latex": [
       "6"
      ],
      "text/markdown": [
       "6"
      ],
      "text/plain": [
       "[1] 6"
      ]
     },
     "metadata": {},
     "output_type": "display_data"
    }
   ],
   "source": [
    "# Product of elements\n",
    "prod(v1)"
   ]
  },
  {
   "cell_type": "code",
   "execution_count": 30,
   "metadata": {},
   "outputs": [
    {
     "data": {
      "text/html": [
       "25.5395118721299"
      ],
      "text/latex": [
       "25.5395118721299"
      ],
      "text/markdown": [
       "25.5395118721299"
      ],
      "text/plain": [
       "[1] 25.53951"
      ]
     },
     "metadata": {},
     "output_type": "display_data"
    }
   ],
   "source": [
    "# Standard Deviation\n",
    "v3 <- c(16,50,75,5,38,22)\n",
    "sd(v3)"
   ]
  },
  {
   "cell_type": "code",
   "execution_count": 31,
   "metadata": {},
   "outputs": [
    {
     "data": {
      "text/html": [
       "652.266666666667"
      ],
      "text/latex": [
       "652.266666666667"
      ],
      "text/markdown": [
       "652.266666666667"
      ],
      "text/plain": [
       "[1] 652.2667"
      ]
     },
     "metadata": {},
     "output_type": "display_data"
    }
   ],
   "source": [
    "#Variance\n",
    "var(v3)"
   ]
  },
  {
   "cell_type": "code",
   "execution_count": 32,
   "metadata": {},
   "outputs": [
    {
     "data": {
      "text/html": [
       "75"
      ],
      "text/latex": [
       "75"
      ],
      "text/markdown": [
       "75"
      ],
      "text/plain": [
       "[1] 75"
      ]
     },
     "metadata": {},
     "output_type": "display_data"
    }
   ],
   "source": [
    "max(v3)"
   ]
  },
  {
   "cell_type": "code",
   "execution_count": 33,
   "metadata": {},
   "outputs": [
    {
     "data": {
      "text/html": [
       "5"
      ],
      "text/latex": [
       "5"
      ],
      "text/markdown": [
       "5"
      ],
      "text/plain": [
       "[1] 5"
      ]
     },
     "metadata": {},
     "output_type": "display_data"
    }
   ],
   "source": [
    "min(v3)"
   ]
  },
  {
   "cell_type": "code",
   "execution_count": 34,
   "metadata": {},
   "outputs": [
    {
     "data": {
      "text/html": [
       "34.3333333333333"
      ],
      "text/latex": [
       "34.3333333333333"
      ],
      "text/markdown": [
       "34.3333333333333"
      ],
      "text/plain": [
       "[1] 34.33333"
      ]
     },
     "metadata": {},
     "output_type": "display_data"
    }
   ],
   "source": [
    "mean(v3)"
   ]
  },
  {
   "cell_type": "code",
   "execution_count": 35,
   "metadata": {},
   "outputs": [
    {
     "data": {
      "text/html": [
       "2"
      ],
      "text/latex": [
       "2"
      ],
      "text/markdown": [
       "2"
      ],
      "text/plain": [
       "[1] 2"
      ]
     },
     "metadata": {},
     "output_type": "display_data"
    }
   ],
   "source": [
    "# Grab second element, Unlike most other programming languages indexing starts at 1\n",
    "v1[2]"
   ]
  },
  {
   "cell_type": "code",
   "execution_count": 36,
   "metadata": {},
   "outputs": [
    {
     "data": {
      "text/html": [
       "<ol class=list-inline>\n",
       "\t<li>5</li>\n",
       "\t<li>7</li>\n",
       "</ol>\n"
      ],
      "text/latex": [
       "\\begin{enumerate*}\n",
       "\\item 5\n",
       "\\item 7\n",
       "\\end{enumerate*}\n"
      ],
      "text/markdown": [
       "1. 5\n",
       "2. 7\n",
       "\n",
       "\n"
      ],
      "text/plain": [
       "[1] 5 7"
      ]
     },
     "metadata": {},
     "output_type": "display_data"
    }
   ],
   "source": [
    "# grab multiple items\n",
    "v2[c(1,3)]"
   ]
  },
  {
   "cell_type": "code",
   "execution_count": 37,
   "metadata": {},
   "outputs": [
    {
     "data": {
      "text/html": [
       "<ol class=list-inline>\n",
       "\t<li>2</li>\n",
       "\t<li>3</li>\n",
       "\t<li>4</li>\n",
       "</ol>\n"
      ],
      "text/latex": [
       "\\begin{enumerate*}\n",
       "\\item 2\n",
       "\\item 3\n",
       "\\item 4\n",
       "\\end{enumerate*}\n"
      ],
      "text/markdown": [
       "1. 2\n",
       "2. 3\n",
       "3. 4\n",
       "\n",
       "\n"
      ],
      "text/plain": [
       "[1] 2 3 4"
      ]
     },
     "metadata": {},
     "output_type": "display_data"
    }
   ],
   "source": [
    "v4 <- c(1,2,3,4,5,6,7,8,9,10)\n",
    "v4[2:4]"
   ]
  },
  {
   "cell_type": "code",
   "execution_count": 38,
   "metadata": {},
   "outputs": [
    {
     "data": {
      "text/html": [
       "<dl class=dl-horizontal>\n",
       "\t<dt>b</dt>\n",
       "\t\t<dd>2</dd>\n",
       "\t<dt>k</dt>\n",
       "\t\t<dd>10</dd>\n",
       "\t<dt>d</dt>\n",
       "\t\t<dd>4</dd>\n",
       "</dl>\n"
      ],
      "text/latex": [
       "\\begin{description*}\n",
       "\\item[b] 2\n",
       "\\item[k] 10\n",
       "\\item[d] 4\n",
       "\\end{description*}\n"
      ],
      "text/markdown": [
       "b\n",
       ":   2k\n",
       ":   10d\n",
       ":   4\n",
       "\n"
      ],
      "text/plain": [
       " b  k  d \n",
       " 2 10  4 "
      ]
     },
     "metadata": {},
     "output_type": "display_data"
    }
   ],
   "source": [
    "names(v4) <- c('a','b','c','d','e','f','g','i','j','k')\n",
    "v4[c('b','k','d')]"
   ]
  },
  {
   "cell_type": "code",
   "execution_count": 39,
   "metadata": {},
   "outputs": [
    {
     "data": {
      "text/html": [
       "<dl class=dl-horizontal>\n",
       "\t<dt>a</dt>\n",
       "\t\t<dd>FALSE</dd>\n",
       "\t<dt>b</dt>\n",
       "\t\t<dd>FALSE</dd>\n",
       "\t<dt>c</dt>\n",
       "\t\t<dd>FALSE</dd>\n",
       "\t<dt>d</dt>\n",
       "\t\t<dd>FALSE</dd>\n",
       "\t<dt>e</dt>\n",
       "\t\t<dd>TRUE</dd>\n",
       "\t<dt>f</dt>\n",
       "\t\t<dd>TRUE</dd>\n",
       "\t<dt>g</dt>\n",
       "\t\t<dd>TRUE</dd>\n",
       "\t<dt>i</dt>\n",
       "\t\t<dd>TRUE</dd>\n",
       "\t<dt>j</dt>\n",
       "\t\t<dd>TRUE</dd>\n",
       "\t<dt>k</dt>\n",
       "\t\t<dd>TRUE</dd>\n",
       "</dl>\n"
      ],
      "text/latex": [
       "\\begin{description*}\n",
       "\\item[a] FALSE\n",
       "\\item[b] FALSE\n",
       "\\item[c] FALSE\n",
       "\\item[d] FALSE\n",
       "\\item[e] TRUE\n",
       "\\item[f] TRUE\n",
       "\\item[g] TRUE\n",
       "\\item[i] TRUE\n",
       "\\item[j] TRUE\n",
       "\\item[k] TRUE\n",
       "\\end{description*}\n"
      ],
      "text/markdown": [
       "a\n",
       ":   FALSEb\n",
       ":   FALSEc\n",
       ":   FALSEd\n",
       ":   FALSEe\n",
       ":   TRUEf\n",
       ":   TRUEg\n",
       ":   TRUEi\n",
       ":   TRUEj\n",
       ":   TRUEk\n",
       ":   TRUE\n",
       "\n"
      ],
      "text/plain": [
       "    a     b     c     d     e     f     g     i     j     k \n",
       "FALSE FALSE FALSE FALSE  TRUE  TRUE  TRUE  TRUE  TRUE  TRUE "
      ]
     },
     "metadata": {},
     "output_type": "display_data"
    }
   ],
   "source": [
    "v4>4"
   ]
  },
  {
   "cell_type": "code",
   "execution_count": 41,
   "metadata": {},
   "outputs": [
    {
     "data": {
      "text/html": [
       "<dl class=dl-horizontal>\n",
       "\t<dt>d</dt>\n",
       "\t\t<dd>4</dd>\n",
       "\t<dt>e</dt>\n",
       "\t\t<dd>5</dd>\n",
       "\t<dt>f</dt>\n",
       "\t\t<dd>6</dd>\n",
       "\t<dt>g</dt>\n",
       "\t\t<dd>7</dd>\n",
       "\t<dt>i</dt>\n",
       "\t\t<dd>8</dd>\n",
       "\t<dt>j</dt>\n",
       "\t\t<dd>9</dd>\n",
       "\t<dt>k</dt>\n",
       "\t\t<dd>10</dd>\n",
       "</dl>\n"
      ],
      "text/latex": [
       "\\begin{description*}\n",
       "\\item[d] 4\n",
       "\\item[e] 5\n",
       "\\item[f] 6\n",
       "\\item[g] 7\n",
       "\\item[i] 8\n",
       "\\item[j] 9\n",
       "\\item[k] 10\n",
       "\\end{description*}\n"
      ],
      "text/markdown": [
       "d\n",
       ":   4e\n",
       ":   5f\n",
       ":   6g\n",
       ":   7i\n",
       ":   8j\n",
       ":   9k\n",
       ":   10\n",
       "\n"
      ],
      "text/plain": [
       " d  e  f  g  i  j  k \n",
       " 4  5  6  7  8  9 10 "
      ]
     },
     "metadata": {},
     "output_type": "display_data"
    }
   ],
   "source": [
    "v4[v4>=4]"
   ]
  },
  {
   "cell_type": "markdown",
   "metadata": {},
   "source": [
    "### Matrices"
   ]
  },
  {
   "cell_type": "code",
   "execution_count": 44,
   "metadata": {},
   "outputs": [
    {
     "data": {
      "text/html": [
       "<table>\n",
       "<tbody>\n",
       "\t<tr><td> 1</td><td> 2</td><td> 3</td><td> 4</td><td> 5</td></tr>\n",
       "\t<tr><td> 6</td><td> 7</td><td> 8</td><td> 9</td><td>10</td></tr>\n",
       "\t<tr><td>11</td><td>12</td><td>13</td><td>14</td><td>15</td></tr>\n",
       "\t<tr><td>16</td><td>17</td><td>18</td><td>19</td><td>20</td></tr>\n",
       "</tbody>\n",
       "</table>\n"
      ],
      "text/latex": [
       "\\begin{tabular}{lllll}\n",
       "\t  1 &  2 &  3 &  4 &  5\\\\\n",
       "\t  6 &  7 &  8 &  9 & 10\\\\\n",
       "\t 11 & 12 & 13 & 14 & 15\\\\\n",
       "\t 16 & 17 & 18 & 19 & 20\\\\\n",
       "\\end{tabular}\n"
      ],
      "text/markdown": [
       "\n",
       "|  1 |  2 |  3 |  4 |  5 | \n",
       "|  6 |  7 |  8 |  9 | 10 | \n",
       "| 11 | 12 | 13 | 14 | 15 | \n",
       "| 16 | 17 | 18 | 19 | 20 | \n",
       "\n",
       "\n"
      ],
      "text/plain": [
       "     [,1] [,2] [,3] [,4] [,5]\n",
       "[1,]  1    2    3    4    5  \n",
       "[2,]  6    7    8    9   10  \n",
       "[3,] 11   12   13   14   15  \n",
       "[4,] 16   17   18   19   20  "
      ]
     },
     "metadata": {},
     "output_type": "display_data"
    }
   ],
   "source": [
    "#create a matrix\n",
    "v <- 1:20\n",
    "matrix(v,byrow=TRUE,nrow=4)"
   ]
  },
  {
   "cell_type": "code",
   "execution_count": 48,
   "metadata": {},
   "outputs": [
    {
     "data": {
      "text/html": [
       "<table>\n",
       "<tbody>\n",
       "\t<tr><td>5024</td><td>6743</td><td>4999</td><td>5070</td><td>5433</td></tr>\n",
       "\t<tr><td>6349</td><td>5923</td><td>4877</td><td>4020</td><td>7389</td></tr>\n",
       "</tbody>\n",
       "</table>\n"
      ],
      "text/latex": [
       "\\begin{tabular}{lllll}\n",
       "\t 5024 & 6743 & 4999 & 5070 & 5433\\\\\n",
       "\t 6349 & 5923 & 4877 & 4020 & 7389\\\\\n",
       "\\end{tabular}\n"
      ],
      "text/markdown": [
       "\n",
       "| 5024 | 6743 | 4999 | 5070 | 5433 | \n",
       "| 6349 | 5923 | 4877 | 4020 | 7389 | \n",
       "\n",
       "\n"
      ],
      "text/plain": [
       "     [,1] [,2] [,3] [,4] [,5]\n",
       "[1,] 5024 6743 4999 5070 5433\n",
       "[2,] 6349 5923 4877 4020 7389"
      ]
     },
     "metadata": {},
     "output_type": "display_data"
    }
   ],
   "source": [
    "week1 <- c(5024, 6743, 4999, 5070, 5433)\n",
    "week2 <- c(6349, 5923, 4877, 4020, 7389)\n",
    "sales <- c(week1,week2)\n",
    "sales.matrix <- matrix(sales,byrow=TRUE,nrow=2)\n",
    "sales.matrix"
   ]
  },
  {
   "cell_type": "code",
   "execution_count": 49,
   "metadata": {},
   "outputs": [
    {
     "data": {
      "text/html": [
       "<table>\n",
       "<thead><tr><th></th><th scope=col>Mon</th><th scope=col>Tue</th><th scope=col>Wed</th><th scope=col>Thu</th><th scope=col>Fri</th></tr></thead>\n",
       "<tbody>\n",
       "\t<tr><th scope=row>Week1</th><td>5024</td><td>6743</td><td>4999</td><td>5070</td><td>5433</td></tr>\n",
       "\t<tr><th scope=row>Week2</th><td>6349</td><td>5923</td><td>4877</td><td>4020</td><td>7389</td></tr>\n",
       "</tbody>\n",
       "</table>\n"
      ],
      "text/latex": [
       "\\begin{tabular}{r|lllll}\n",
       "  & Mon & Tue & Wed & Thu & Fri\\\\\n",
       "\\hline\n",
       "\tWeek1 & 5024 & 6743 & 4999 & 5070 & 5433\\\\\n",
       "\tWeek2 & 6349 & 5923 & 4877 & 4020 & 7389\\\\\n",
       "\\end{tabular}\n"
      ],
      "text/markdown": [
       "\n",
       "| <!--/--> | Mon | Tue | Wed | Thu | Fri | \n",
       "|---|---|\n",
       "| Week1 | 5024 | 6743 | 4999 | 5070 | 5433 | \n",
       "| Week2 | 6349 | 5923 | 4877 | 4020 | 7389 | \n",
       "\n",
       "\n"
      ],
      "text/plain": [
       "      Mon  Tue  Wed  Thu  Fri \n",
       "Week1 5024 6743 4999 5070 5433\n",
       "Week2 6349 5923 4877 4020 7389"
      ]
     },
     "metadata": {},
     "output_type": "display_data"
    }
   ],
   "source": [
    "days <- c('Mon','Tue','Wed','Thu','Fri')\n",
    "weeks.names <- c('Week1','Week2')\n",
    "colnames(sales.matrix) <- days\n",
    "rownames(sales.matrix) <- weeks.names\n",
    "sales.matrix"
   ]
  },
  {
   "cell_type": "code",
   "execution_count": 50,
   "metadata": {},
   "outputs": [
    {
     "data": {
      "text/html": [
       "<table>\n",
       "<tbody>\n",
       "\t<tr><td> 1</td><td> 2</td><td> 3</td><td> 4</td><td> 5</td><td> 6</td><td> 7</td><td> 8</td><td> 9</td><td>10</td></tr>\n",
       "\t<tr><td>11</td><td>12</td><td>13</td><td>14</td><td>15</td><td>16</td><td>17</td><td>18</td><td>19</td><td>20</td></tr>\n",
       "\t<tr><td>21</td><td>22</td><td>23</td><td>24</td><td>25</td><td>26</td><td>27</td><td>28</td><td>29</td><td>30</td></tr>\n",
       "\t<tr><td>31</td><td>32</td><td>33</td><td>34</td><td>35</td><td>36</td><td>37</td><td>38</td><td>39</td><td>40</td></tr>\n",
       "\t<tr><td>41</td><td>42</td><td>43</td><td>44</td><td>45</td><td>46</td><td>47</td><td>48</td><td>49</td><td>50</td></tr>\n",
       "</tbody>\n",
       "</table>\n"
      ],
      "text/latex": [
       "\\begin{tabular}{llllllllll}\n",
       "\t  1 &  2 &  3 &  4 &  5 &  6 &  7 &  8 &  9 & 10\\\\\n",
       "\t 11 & 12 & 13 & 14 & 15 & 16 & 17 & 18 & 19 & 20\\\\\n",
       "\t 21 & 22 & 23 & 24 & 25 & 26 & 27 & 28 & 29 & 30\\\\\n",
       "\t 31 & 32 & 33 & 34 & 35 & 36 & 37 & 38 & 39 & 40\\\\\n",
       "\t 41 & 42 & 43 & 44 & 45 & 46 & 47 & 48 & 49 & 50\\\\\n",
       "\\end{tabular}\n"
      ],
      "text/markdown": [
       "\n",
       "|  1 |  2 |  3 |  4 |  5 |  6 |  7 |  8 |  9 | 10 | \n",
       "| 11 | 12 | 13 | 14 | 15 | 16 | 17 | 18 | 19 | 20 | \n",
       "| 21 | 22 | 23 | 24 | 25 | 26 | 27 | 28 | 29 | 30 | \n",
       "| 31 | 32 | 33 | 34 | 35 | 36 | 37 | 38 | 39 | 40 | \n",
       "| 41 | 42 | 43 | 44 | 45 | 46 | 47 | 48 | 49 | 50 | \n",
       "\n",
       "\n"
      ],
      "text/plain": [
       "     [,1] [,2] [,3] [,4] [,5] [,6] [,7] [,8] [,9] [,10]\n",
       "[1,]  1    2    3    4    5    6    7    8    9   10   \n",
       "[2,] 11   12   13   14   15   16   17   18   19   20   \n",
       "[3,] 21   22   23   24   25   26   27   28   29   30   \n",
       "[4,] 31   32   33   34   35   36   37   38   39   40   \n",
       "[5,] 41   42   43   44   45   46   47   48   49   50   "
      ]
     },
     "metadata": {},
     "output_type": "display_data"
    }
   ],
   "source": [
    "mat <- matrix(1:50,byrow=TRUE,nrow=5)\n",
    "mat"
   ]
  },
  {
   "cell_type": "code",
   "execution_count": 51,
   "metadata": {},
   "outputs": [
    {
     "data": {
      "text/html": [
       "<table>\n",
       "<tbody>\n",
       "\t<tr><td> 2 </td><td> 4 </td><td> 6 </td><td> 8 </td><td>10 </td><td>12 </td><td>14 </td><td>16 </td><td>18 </td><td> 20</td></tr>\n",
       "\t<tr><td>22 </td><td>24 </td><td>26 </td><td>28 </td><td>30 </td><td>32 </td><td>34 </td><td>36 </td><td>38 </td><td> 40</td></tr>\n",
       "\t<tr><td>42 </td><td>44 </td><td>46 </td><td>48 </td><td>50 </td><td>52 </td><td>54 </td><td>56 </td><td>58 </td><td> 60</td></tr>\n",
       "\t<tr><td>62 </td><td>64 </td><td>66 </td><td>68 </td><td>70 </td><td>72 </td><td>74 </td><td>76 </td><td>78 </td><td> 80</td></tr>\n",
       "\t<tr><td>82 </td><td>84 </td><td>86 </td><td>88 </td><td>90 </td><td>92 </td><td>94 </td><td>96 </td><td>98 </td><td>100</td></tr>\n",
       "</tbody>\n",
       "</table>\n"
      ],
      "text/latex": [
       "\\begin{tabular}{llllllllll}\n",
       "\t  2  &  4  &  6  &  8  & 10  & 12  & 14  & 16  & 18  &  20\\\\\n",
       "\t 22  & 24  & 26  & 28  & 30  & 32  & 34  & 36  & 38  &  40\\\\\n",
       "\t 42  & 44  & 46  & 48  & 50  & 52  & 54  & 56  & 58  &  60\\\\\n",
       "\t 62  & 64  & 66  & 68  & 70  & 72  & 74  & 76  & 78  &  80\\\\\n",
       "\t 82  & 84  & 86  & 88  & 90  & 92  & 94  & 96  & 98  & 100\\\\\n",
       "\\end{tabular}\n"
      ],
      "text/markdown": [
       "\n",
       "|  2  |  4  |  6  |  8  | 10  | 12  | 14  | 16  | 18  |  20 | \n",
       "| 22  | 24  | 26  | 28  | 30  | 32  | 34  | 36  | 38  |  40 | \n",
       "| 42  | 44  | 46  | 48  | 50  | 52  | 54  | 56  | 58  |  60 | \n",
       "| 62  | 64  | 66  | 68  | 70  | 72  | 74  | 76  | 78  |  80 | \n",
       "| 82  | 84  | 86  | 88  | 90  | 92  | 94  | 96  | 98  | 100 | \n",
       "\n",
       "\n"
      ],
      "text/plain": [
       "     [,1] [,2] [,3] [,4] [,5] [,6] [,7] [,8] [,9] [,10]\n",
       "[1,]  2    4    6    8   10   12   14   16   18    20  \n",
       "[2,] 22   24   26   28   30   32   34   36   38    40  \n",
       "[3,] 42   44   46   48   50   52   54   56   58    60  \n",
       "[4,] 62   64   66   68   70   72   74   76   78    80  \n",
       "[5,] 82   84   86   88   90   92   94   96   98   100  "
      ]
     },
     "metadata": {},
     "output_type": "display_data"
    }
   ],
   "source": [
    "#multipliyng, dividing, power works like expected example\n",
    "2*mat"
   ]
  },
  {
   "cell_type": "code",
   "execution_count": 53,
   "metadata": {},
   "outputs": [
    {
     "data": {
      "text/html": [
       "<table>\n",
       "<tbody>\n",
       "\t<tr><td>FALSE</td><td>FALSE</td><td>FALSE</td><td>FALSE</td><td>FALSE</td><td>FALSE</td><td>FALSE</td><td>FALSE</td><td>FALSE</td><td>FALSE</td></tr>\n",
       "\t<tr><td>FALSE</td><td>FALSE</td><td>FALSE</td><td>FALSE</td><td>FALSE</td><td>FALSE</td><td>FALSE</td><td>FALSE</td><td>FALSE</td><td>FALSE</td></tr>\n",
       "\t<tr><td>FALSE</td><td>FALSE</td><td>FALSE</td><td> TRUE</td><td> TRUE</td><td> TRUE</td><td> TRUE</td><td> TRUE</td><td> TRUE</td><td> TRUE</td></tr>\n",
       "\t<tr><td> TRUE</td><td> TRUE</td><td> TRUE</td><td> TRUE</td><td> TRUE</td><td> TRUE</td><td> TRUE</td><td> TRUE</td><td> TRUE</td><td> TRUE</td></tr>\n",
       "\t<tr><td> TRUE</td><td> TRUE</td><td> TRUE</td><td> TRUE</td><td> TRUE</td><td> TRUE</td><td> TRUE</td><td> TRUE</td><td> TRUE</td><td> TRUE</td></tr>\n",
       "</tbody>\n",
       "</table>\n"
      ],
      "text/latex": [
       "\\begin{tabular}{llllllllll}\n",
       "\t FALSE & FALSE & FALSE & FALSE & FALSE & FALSE & FALSE & FALSE & FALSE & FALSE\\\\\n",
       "\t FALSE & FALSE & FALSE & FALSE & FALSE & FALSE & FALSE & FALSE & FALSE & FALSE\\\\\n",
       "\t FALSE & FALSE & FALSE &  TRUE &  TRUE &  TRUE &  TRUE &  TRUE &  TRUE &  TRUE\\\\\n",
       "\t  TRUE &  TRUE &  TRUE &  TRUE &  TRUE &  TRUE &  TRUE &  TRUE &  TRUE &  TRUE\\\\\n",
       "\t  TRUE &  TRUE &  TRUE &  TRUE &  TRUE &  TRUE &  TRUE &  TRUE &  TRUE &  TRUE\\\\\n",
       "\\end{tabular}\n"
      ],
      "text/markdown": [
       "\n",
       "| FALSE | FALSE | FALSE | FALSE | FALSE | FALSE | FALSE | FALSE | FALSE | FALSE | \n",
       "| FALSE | FALSE | FALSE | FALSE | FALSE | FALSE | FALSE | FALSE | FALSE | FALSE | \n",
       "| FALSE | FALSE | FALSE |  TRUE |  TRUE |  TRUE |  TRUE |  TRUE |  TRUE |  TRUE | \n",
       "|  TRUE |  TRUE |  TRUE |  TRUE |  TRUE |  TRUE |  TRUE |  TRUE |  TRUE |  TRUE | \n",
       "|  TRUE |  TRUE |  TRUE |  TRUE |  TRUE |  TRUE |  TRUE |  TRUE |  TRUE |  TRUE | \n",
       "\n",
       "\n"
      ],
      "text/plain": [
       "     [,1]  [,2]  [,3]  [,4]  [,5]  [,6]  [,7]  [,8]  [,9]  [,10]\n",
       "[1,] FALSE FALSE FALSE FALSE FALSE FALSE FALSE FALSE FALSE FALSE\n",
       "[2,] FALSE FALSE FALSE FALSE FALSE FALSE FALSE FALSE FALSE FALSE\n",
       "[3,] FALSE FALSE FALSE  TRUE  TRUE  TRUE  TRUE  TRUE  TRUE  TRUE\n",
       "[4,]  TRUE  TRUE  TRUE  TRUE  TRUE  TRUE  TRUE  TRUE  TRUE  TRUE\n",
       "[5,]  TRUE  TRUE  TRUE  TRUE  TRUE  TRUE  TRUE  TRUE  TRUE  TRUE"
      ]
     },
     "metadata": {},
     "output_type": "display_data"
    }
   ],
   "source": [
    "#comparison\n",
    "mat > 23"
   ]
  },
  {
   "cell_type": "code",
   "execution_count": 54,
   "metadata": {},
   "outputs": [
    {
     "data": {
      "text/html": [
       "<table>\n",
       "<tbody>\n",
       "\t<tr><td>   1</td><td>   4</td><td>   9</td><td>  16</td><td>  25</td><td>  36</td><td>  49</td><td>  64</td><td>  81</td><td> 100</td></tr>\n",
       "\t<tr><td> 121</td><td> 144</td><td> 169</td><td> 196</td><td> 225</td><td> 256</td><td> 289</td><td> 324</td><td> 361</td><td> 400</td></tr>\n",
       "\t<tr><td> 441</td><td> 484</td><td> 529</td><td> 576</td><td> 625</td><td> 676</td><td> 729</td><td> 784</td><td> 841</td><td> 900</td></tr>\n",
       "\t<tr><td> 961</td><td>1024</td><td>1089</td><td>1156</td><td>1225</td><td>1296</td><td>1369</td><td>1444</td><td>1521</td><td>1600</td></tr>\n",
       "\t<tr><td>1681</td><td>1764</td><td>1849</td><td>1936</td><td>2025</td><td>2116</td><td>2209</td><td>2304</td><td>2401</td><td>2500</td></tr>\n",
       "</tbody>\n",
       "</table>\n"
      ],
      "text/latex": [
       "\\begin{tabular}{llllllllll}\n",
       "\t    1 &    4 &    9 &   16 &   25 &   36 &   49 &   64 &   81 &  100\\\\\n",
       "\t  121 &  144 &  169 &  196 &  225 &  256 &  289 &  324 &  361 &  400\\\\\n",
       "\t  441 &  484 &  529 &  576 &  625 &  676 &  729 &  784 &  841 &  900\\\\\n",
       "\t  961 & 1024 & 1089 & 1156 & 1225 & 1296 & 1369 & 1444 & 1521 & 1600\\\\\n",
       "\t 1681 & 1764 & 1849 & 1936 & 2025 & 2116 & 2209 & 2304 & 2401 & 2500\\\\\n",
       "\\end{tabular}\n"
      ],
      "text/markdown": [
       "\n",
       "|    1 |    4 |    9 |   16 |   25 |   36 |   49 |   64 |   81 |  100 | \n",
       "|  121 |  144 |  169 |  196 |  225 |  256 |  289 |  324 |  361 |  400 | \n",
       "|  441 |  484 |  529 |  576 |  625 |  676 |  729 |  784 |  841 |  900 | \n",
       "|  961 | 1024 | 1089 | 1156 | 1225 | 1296 | 1369 | 1444 | 1521 | 1600 | \n",
       "| 1681 | 1764 | 1849 | 1936 | 2025 | 2116 | 2209 | 2304 | 2401 | 2500 | \n",
       "\n",
       "\n"
      ],
      "text/plain": [
       "     [,1] [,2] [,3] [,4] [,5] [,6] [,7] [,8] [,9] [,10]\n",
       "[1,]    1    4    9   16   25   36   49   64   81  100 \n",
       "[2,]  121  144  169  196  225  256  289  324  361  400 \n",
       "[3,]  441  484  529  576  625  676  729  784  841  900 \n",
       "[4,]  961 1024 1089 1156 1225 1296 1369 1444 1521 1600 \n",
       "[5,] 1681 1764 1849 1936 2025 2116 2209 2304 2401 2500 "
      ]
     },
     "metadata": {},
     "output_type": "display_data"
    }
   ],
   "source": [
    "#you can also add, subtract,multiply and divide matrices. This works on element by element basis\n",
    "# note on multiplication this is not the same as matrix multiplication in a mathematical sense\n",
    "mat*mat"
   ]
  },
  {
   "cell_type": "code",
   "execution_count": 56,
   "metadata": {},
   "outputs": [
    {
     "data": {
      "text/html": [
       "<table>\n",
       "<tbody>\n",
       "\t<tr><td>215 </td><td>490 </td><td> 765</td><td>1040</td><td>1315</td></tr>\n",
       "\t<tr><td>230 </td><td>530 </td><td> 830</td><td>1130</td><td>1430</td></tr>\n",
       "\t<tr><td>245 </td><td>570 </td><td> 895</td><td>1220</td><td>1545</td></tr>\n",
       "\t<tr><td>260 </td><td>610 </td><td> 960</td><td>1310</td><td>1660</td></tr>\n",
       "\t<tr><td>275 </td><td>650 </td><td>1025</td><td>1400</td><td>1775</td></tr>\n",
       "</tbody>\n",
       "</table>\n"
      ],
      "text/latex": [
       "\\begin{tabular}{lllll}\n",
       "\t 215  & 490  &  765 & 1040 & 1315\\\\\n",
       "\t 230  & 530  &  830 & 1130 & 1430\\\\\n",
       "\t 245  & 570  &  895 & 1220 & 1545\\\\\n",
       "\t 260  & 610  &  960 & 1310 & 1660\\\\\n",
       "\t 275  & 650  & 1025 & 1400 & 1775\\\\\n",
       "\\end{tabular}\n"
      ],
      "text/markdown": [
       "\n",
       "| 215  | 490  |  765 | 1040 | 1315 | \n",
       "| 230  | 530  |  830 | 1130 | 1430 | \n",
       "| 245  | 570  |  895 | 1220 | 1545 | \n",
       "| 260  | 610  |  960 | 1310 | 1660 | \n",
       "| 275  | 650  | 1025 | 1400 | 1775 | \n",
       "\n",
       "\n"
      ],
      "text/plain": [
       "     [,1] [,2] [,3] [,4] [,5]\n",
       "[1,] 215  490   765 1040 1315\n",
       "[2,] 230  530   830 1130 1430\n",
       "[3,] 245  570   895 1220 1545\n",
       "[4,] 260  610   960 1310 1660\n",
       "[5,] 275  650  1025 1400 1775"
      ]
     },
     "metadata": {},
     "output_type": "display_data"
    }
   ],
   "source": [
    "# True Matrix Multiplication\n",
    "mat2 <- matrix(1:25, nrow=5)\n",
    "mat2 %*% mat2"
   ]
  },
  {
   "cell_type": "code",
   "execution_count": 57,
   "metadata": {},
   "outputs": [
    {
     "data": {
      "text/html": [
       "<dl class=dl-horizontal>\n",
       "\t<dt>Mon</dt>\n",
       "\t\t<dd>11373</dd>\n",
       "\t<dt>Tue</dt>\n",
       "\t\t<dd>12666</dd>\n",
       "\t<dt>Wed</dt>\n",
       "\t\t<dd>9876</dd>\n",
       "\t<dt>Thu</dt>\n",
       "\t\t<dd>9090</dd>\n",
       "\t<dt>Fri</dt>\n",
       "\t\t<dd>12822</dd>\n",
       "</dl>\n"
      ],
      "text/latex": [
       "\\begin{description*}\n",
       "\\item[Mon] 11373\n",
       "\\item[Tue] 12666\n",
       "\\item[Wed] 9876\n",
       "\\item[Thu] 9090\n",
       "\\item[Fri] 12822\n",
       "\\end{description*}\n"
      ],
      "text/markdown": [
       "Mon\n",
       ":   11373Tue\n",
       ":   12666Wed\n",
       ":   9876Thu\n",
       ":   9090Fri\n",
       ":   12822\n",
       "\n"
      ],
      "text/plain": [
       "  Mon   Tue   Wed   Thu   Fri \n",
       "11373 12666  9876  9090 12822 "
      ]
     },
     "metadata": {},
     "output_type": "display_data"
    }
   ],
   "source": [
    "colSums(sales.matrix)"
   ]
  },
  {
   "cell_type": "code",
   "execution_count": 58,
   "metadata": {},
   "outputs": [
    {
     "data": {
      "text/html": [
       "<dl class=dl-horizontal>\n",
       "\t<dt>Week1</dt>\n",
       "\t\t<dd>27269</dd>\n",
       "\t<dt>Week2</dt>\n",
       "\t\t<dd>28558</dd>\n",
       "</dl>\n"
      ],
      "text/latex": [
       "\\begin{description*}\n",
       "\\item[Week1] 27269\n",
       "\\item[Week2] 28558\n",
       "\\end{description*}\n"
      ],
      "text/markdown": [
       "Week1\n",
       ":   27269Week2\n",
       ":   28558\n",
       "\n"
      ],
      "text/plain": [
       "Week1 Week2 \n",
       "27269 28558 "
      ]
     },
     "metadata": {},
     "output_type": "display_data"
    }
   ],
   "source": [
    "rowSums(sales.matrix)"
   ]
  },
  {
   "cell_type": "code",
   "execution_count": 59,
   "metadata": {},
   "outputs": [
    {
     "data": {
      "text/html": [
       "<dl class=dl-horizontal>\n",
       "\t<dt>Week1</dt>\n",
       "\t\t<dd>5453.8</dd>\n",
       "\t<dt>Week2</dt>\n",
       "\t\t<dd>5711.6</dd>\n",
       "</dl>\n"
      ],
      "text/latex": [
       "\\begin{description*}\n",
       "\\item[Week1] 5453.8\n",
       "\\item[Week2] 5711.6\n",
       "\\end{description*}\n"
      ],
      "text/markdown": [
       "Week1\n",
       ":   5453.8Week2\n",
       ":   5711.6\n",
       "\n"
      ],
      "text/plain": [
       " Week1  Week2 \n",
       "5453.8 5711.6 "
      ]
     },
     "metadata": {},
     "output_type": "display_data"
    }
   ],
   "source": [
    "rowMeans(sales.matrix)"
   ]
  },
  {
   "cell_type": "code",
   "execution_count": 60,
   "metadata": {},
   "outputs": [
    {
     "data": {
      "text/html": [
       "<dl class=dl-horizontal>\n",
       "\t<dt>Mon</dt>\n",
       "\t\t<dd>5686.5</dd>\n",
       "\t<dt>Tue</dt>\n",
       "\t\t<dd>6333</dd>\n",
       "\t<dt>Wed</dt>\n",
       "\t\t<dd>4938</dd>\n",
       "\t<dt>Thu</dt>\n",
       "\t\t<dd>4545</dd>\n",
       "\t<dt>Fri</dt>\n",
       "\t\t<dd>6411</dd>\n",
       "</dl>\n"
      ],
      "text/latex": [
       "\\begin{description*}\n",
       "\\item[Mon] 5686.5\n",
       "\\item[Tue] 6333\n",
       "\\item[Wed] 4938\n",
       "\\item[Thu] 4545\n",
       "\\item[Fri] 6411\n",
       "\\end{description*}\n"
      ],
      "text/markdown": [
       "Mon\n",
       ":   5686.5Tue\n",
       ":   6333Wed\n",
       ":   4938Thu\n",
       ":   4545Fri\n",
       ":   6411\n",
       "\n"
      ],
      "text/plain": [
       "   Mon    Tue    Wed    Thu    Fri \n",
       "5686.5 6333.0 4938.0 4545.0 6411.0 "
      ]
     },
     "metadata": {},
     "output_type": "display_data"
    }
   ],
   "source": [
    "colMeans(sales.matrix)"
   ]
  },
  {
   "cell_type": "code",
   "execution_count": 61,
   "metadata": {},
   "outputs": [
    {
     "data": {
      "text/html": [
       "<table>\n",
       "<thead><tr><th></th><th scope=col>Mon</th><th scope=col>Tue</th><th scope=col>Wed</th><th scope=col>Thu</th><th scope=col>Fri</th></tr></thead>\n",
       "<tbody>\n",
       "\t<tr><th scope=row>Week1</th><td>5024</td><td>6743</td><td>4999</td><td>5070</td><td>5433</td></tr>\n",
       "\t<tr><th scope=row>Week2</th><td>6349</td><td>5923</td><td>4877</td><td>4020</td><td>7389</td></tr>\n",
       "\t<tr><th scope=row>week3</th><td>5792</td><td>4311</td><td>6619</td><td>7001</td><td>5522</td></tr>\n",
       "</tbody>\n",
       "</table>\n"
      ],
      "text/latex": [
       "\\begin{tabular}{r|lllll}\n",
       "  & Mon & Tue & Wed & Thu & Fri\\\\\n",
       "\\hline\n",
       "\tWeek1 & 5024 & 6743 & 4999 & 5070 & 5433\\\\\n",
       "\tWeek2 & 6349 & 5923 & 4877 & 4020 & 7389\\\\\n",
       "\tweek3 & 5792 & 4311 & 6619 & 7001 & 5522\\\\\n",
       "\\end{tabular}\n"
      ],
      "text/markdown": [
       "\n",
       "| <!--/--> | Mon | Tue | Wed | Thu | Fri | \n",
       "|---|---|---|\n",
       "| Week1 | 5024 | 6743 | 4999 | 5070 | 5433 | \n",
       "| Week2 | 6349 | 5923 | 4877 | 4020 | 7389 | \n",
       "| week3 | 5792 | 4311 | 6619 | 7001 | 5522 | \n",
       "\n",
       "\n"
      ],
      "text/plain": [
       "      Mon  Tue  Wed  Thu  Fri \n",
       "Week1 5024 6743 4999 5070 5433\n",
       "Week2 6349 5923 4877 4020 7389\n",
       "week3 5792 4311 6619 7001 5522"
      ]
     },
     "metadata": {},
     "output_type": "display_data"
    }
   ],
   "source": [
    "week3 <- c(5792,4311,6619,7001,5522)\n",
    "sales.matrix <- rbind(sales.matrix,week3)\n",
    "sales.matrix"
   ]
  },
  {
   "cell_type": "code",
   "execution_count": 62,
   "metadata": {},
   "outputs": [
    {
     "data": {
      "text/html": [
       "<table>\n",
       "<thead><tr><th></th><th scope=col>Mon</th><th scope=col>Tue</th><th scope=col>Wed</th><th scope=col>Thu</th><th scope=col>Fri</th><th scope=col>avg</th></tr></thead>\n",
       "<tbody>\n",
       "\t<tr><th scope=row>Week1</th><td>5024  </td><td>6743  </td><td>4999  </td><td>5070  </td><td>5433  </td><td>5453.8</td></tr>\n",
       "\t<tr><th scope=row>Week2</th><td>6349  </td><td>5923  </td><td>4877  </td><td>4020  </td><td>7389  </td><td>5711.6</td></tr>\n",
       "\t<tr><th scope=row>week3</th><td>5792  </td><td>4311  </td><td>6619  </td><td>7001  </td><td>5522  </td><td>5849.0</td></tr>\n",
       "</tbody>\n",
       "</table>\n"
      ],
      "text/latex": [
       "\\begin{tabular}{r|llllll}\n",
       "  & Mon & Tue & Wed & Thu & Fri & avg\\\\\n",
       "\\hline\n",
       "\tWeek1 & 5024   & 6743   & 4999   & 5070   & 5433   & 5453.8\\\\\n",
       "\tWeek2 & 6349   & 5923   & 4877   & 4020   & 7389   & 5711.6\\\\\n",
       "\tweek3 & 5792   & 4311   & 6619   & 7001   & 5522   & 5849.0\\\\\n",
       "\\end{tabular}\n"
      ],
      "text/markdown": [
       "\n",
       "| <!--/--> | Mon | Tue | Wed | Thu | Fri | avg | \n",
       "|---|---|---|\n",
       "| Week1 | 5024   | 6743   | 4999   | 5070   | 5433   | 5453.8 | \n",
       "| Week2 | 6349   | 5923   | 4877   | 4020   | 7389   | 5711.6 | \n",
       "| week3 | 5792   | 4311   | 6619   | 7001   | 5522   | 5849.0 | \n",
       "\n",
       "\n"
      ],
      "text/plain": [
       "      Mon  Tue  Wed  Thu  Fri  avg   \n",
       "Week1 5024 6743 4999 5070 5433 5453.8\n",
       "Week2 6349 5923 4877 4020 7389 5711.6\n",
       "week3 5792 4311 6619 7001 5522 5849.0"
      ]
     },
     "metadata": {},
     "output_type": "display_data"
    }
   ],
   "source": [
    "avg <- rowMeans(sales.matrix)\n",
    "sales.matrix <- cbind(sales.matrix,avg)\n",
    "sales.matrix"
   ]
  },
  {
   "cell_type": "code",
   "execution_count": 63,
   "metadata": {},
   "outputs": [
    {
     "data": {
      "text/html": [
       "<ol class=list-inline>\n",
       "\t<li>1</li>\n",
       "\t<li>11</li>\n",
       "\t<li>21</li>\n",
       "\t<li>31</li>\n",
       "\t<li>41</li>\n",
       "</ol>\n"
      ],
      "text/latex": [
       "\\begin{enumerate*}\n",
       "\\item 1\n",
       "\\item 11\n",
       "\\item 21\n",
       "\\item 31\n",
       "\\item 41\n",
       "\\end{enumerate*}\n"
      ],
      "text/markdown": [
       "1. 1\n",
       "2. 11\n",
       "3. 21\n",
       "4. 31\n",
       "5. 41\n",
       "\n",
       "\n"
      ],
      "text/plain": [
       "[1]  1 11 21 31 41"
      ]
     },
     "metadata": {},
     "output_type": "display_data"
    }
   ],
   "source": [
    "#get the first column\n",
    "mat[,1]"
   ]
  },
  {
   "cell_type": "code",
   "execution_count": 65,
   "metadata": {},
   "outputs": [
    {
     "data": {
      "text/html": [
       "<ol class=list-inline>\n",
       "\t<li>11</li>\n",
       "\t<li>12</li>\n",
       "\t<li>13</li>\n",
       "\t<li>14</li>\n",
       "\t<li>15</li>\n",
       "\t<li>16</li>\n",
       "\t<li>17</li>\n",
       "\t<li>18</li>\n",
       "\t<li>19</li>\n",
       "\t<li>20</li>\n",
       "</ol>\n"
      ],
      "text/latex": [
       "\\begin{enumerate*}\n",
       "\\item 11\n",
       "\\item 12\n",
       "\\item 13\n",
       "\\item 14\n",
       "\\item 15\n",
       "\\item 16\n",
       "\\item 17\n",
       "\\item 18\n",
       "\\item 19\n",
       "\\item 20\n",
       "\\end{enumerate*}\n"
      ],
      "text/markdown": [
       "1. 11\n",
       "2. 12\n",
       "3. 13\n",
       "4. 14\n",
       "5. 15\n",
       "6. 16\n",
       "7. 17\n",
       "8. 18\n",
       "9. 19\n",
       "10. 20\n",
       "\n",
       "\n"
      ],
      "text/plain": [
       " [1] 11 12 13 14 15 16 17 18 19 20"
      ]
     },
     "metadata": {},
     "output_type": "display_data"
    }
   ],
   "source": [
    "#get the second row\n",
    "mat[2,]"
   ]
  },
  {
   "cell_type": "code",
   "execution_count": 66,
   "metadata": {},
   "outputs": [
    {
     "data": {
      "text/html": [
       "<table>\n",
       "<tbody>\n",
       "\t<tr><td> 9</td><td>10</td></tr>\n",
       "\t<tr><td>19</td><td>20</td></tr>\n",
       "\t<tr><td>29</td><td>30</td></tr>\n",
       "\t<tr><td>39</td><td>40</td></tr>\n",
       "\t<tr><td>49</td><td>50</td></tr>\n",
       "</tbody>\n",
       "</table>\n"
      ],
      "text/latex": [
       "\\begin{tabular}{ll}\n",
       "\t  9 & 10\\\\\n",
       "\t 19 & 20\\\\\n",
       "\t 29 & 30\\\\\n",
       "\t 39 & 40\\\\\n",
       "\t 49 & 50\\\\\n",
       "\\end{tabular}\n"
      ],
      "text/markdown": [
       "\n",
       "|  9 | 10 | \n",
       "| 19 | 20 | \n",
       "| 29 | 30 | \n",
       "| 39 | 40 | \n",
       "| 49 | 50 | \n",
       "\n",
       "\n"
      ],
      "text/plain": [
       "     [,1] [,2]\n",
       "[1,]  9   10  \n",
       "[2,] 19   20  \n",
       "[3,] 29   30  \n",
       "[4,] 39   40  \n",
       "[5,] 49   50  "
      ]
     },
     "metadata": {},
     "output_type": "display_data"
    }
   ],
   "source": [
    "#the last two columns\n",
    "mat[,9:10]"
   ]
  },
  {
   "cell_type": "code",
   "execution_count": 67,
   "metadata": {},
   "outputs": [
    {
     "data": {
      "text/html": [
       "<table>\n",
       "<tbody>\n",
       "\t<tr><td>15</td><td>16</td></tr>\n",
       "\t<tr><td>25</td><td>26</td></tr>\n",
       "</tbody>\n",
       "</table>\n"
      ],
      "text/latex": [
       "\\begin{tabular}{ll}\n",
       "\t 15 & 16\\\\\n",
       "\t 25 & 26\\\\\n",
       "\\end{tabular}\n"
      ],
      "text/markdown": [
       "\n",
       "| 15 | 16 | \n",
       "| 25 | 26 | \n",
       "\n",
       "\n"
      ],
      "text/plain": [
       "     [,1] [,2]\n",
       "[1,] 15   16  \n",
       "[2,] 25   26  "
      ]
     },
     "metadata": {},
     "output_type": "display_data"
    }
   ],
   "source": [
    "mat[2:3,5:6]"
   ]
  },
  {
   "cell_type": "code",
   "execution_count": 68,
   "metadata": {},
   "outputs": [
    {
     "data": {
      "text/html": [
       "<table>\n",
       "<tbody>\n",
       "\t<tr><td>14</td><td>15</td><td>16</td><td>17</td></tr>\n",
       "\t<tr><td>24</td><td>25</td><td>26</td><td>27</td></tr>\n",
       "\t<tr><td>34</td><td>35</td><td>36</td><td>37</td></tr>\n",
       "</tbody>\n",
       "</table>\n"
      ],
      "text/latex": [
       "\\begin{tabular}{llll}\n",
       "\t 14 & 15 & 16 & 17\\\\\n",
       "\t 24 & 25 & 26 & 27\\\\\n",
       "\t 34 & 35 & 36 & 37\\\\\n",
       "\\end{tabular}\n"
      ],
      "text/markdown": [
       "\n",
       "| 14 | 15 | 16 | 17 | \n",
       "| 24 | 25 | 26 | 27 | \n",
       "| 34 | 35 | 36 | 37 | \n",
       "\n",
       "\n"
      ],
      "text/plain": [
       "     [,1] [,2] [,3] [,4]\n",
       "[1,] 14   15   16   17  \n",
       "[2,] 24   25   26   27  \n",
       "[3,] 34   35   36   37  "
      ]
     },
     "metadata": {},
     "output_type": "display_data"
    }
   ],
   "source": [
    "# get a small rectangle in the middle\n",
    "mat[2:4,4:7]"
   ]
  },
  {
   "cell_type": "code",
   "execution_count": null,
   "metadata": {},
   "outputs": [],
   "source": []
  }
 ],
 "metadata": {
  "kernelspec": {
   "display_name": "R",
   "language": "R",
   "name": "ir"
  },
  "language_info": {
   "codemirror_mode": "r",
   "file_extension": ".r",
   "mimetype": "text/x-r-source",
   "name": "R",
   "pygments_lexer": "r",
   "version": "3.4.2"
  }
 },
 "nbformat": 4,
 "nbformat_minor": 2
}
